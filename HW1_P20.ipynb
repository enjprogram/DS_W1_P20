{
 "cells": [
  {
   "cell_type": "markdown",
   "id": "11df78ba-4c83-429b-aade-212952a46019",
   "metadata": {},
   "source": [
    "__HOMEWORK_1_PROBLEM_20__"
   ]
  },
  {
   "cell_type": "code",
   "execution_count": 37,
   "id": "680c14ef-6dda-4be8-8f80-d80fec820113",
   "metadata": {
    "scrolled": true
   },
   "outputs": [
    {
     "name": "stdout",
     "output_type": "stream",
     "text": [
      "This is the data stored in the list: \n",
      "\n",
      "<class 'tuple'> \t | (2, 3, 5, 'Programming')\n",
      "<class 'dict'> \t | {'name': 'what is your name?', 'year': 'what is your date of birth?'}\n",
      "<class 'str'> \t | beauty\n",
      "<class 'frozenset'> \t | frozenset({8, 1, 5, 6})\n",
      "<class 'bool'> \t | True\n",
      "\n",
      "This is the end of the list.\n"
     ]
    }
   ],
   "source": [
    "%reset -f\n",
    "\n",
    "# initialize data\n",
    "a = (2, 3, 5, 'Programming') # tuple\n",
    "b = {\"name\":\"what is your name?\", \"year\":\"what is your date of birth?\"} # dictionary\n",
    "c = \"beauty\" # string\n",
    "d = frozenset({1,5,6,8}) # frozenset\n",
    "e = 2<3 or 5>1 # boolean\n",
    "\n",
    "# construct a list with the data\n",
    "a_list = [a, b, c, d, e] # list of data\n",
    "\n",
    "# define decorator\n",
    "def decorator(f):\n",
    "    def print_datatype(a_list):\n",
    "        print(\"This is the data stored in the list: \\n\")\n",
    "        d = f(a_list)\n",
    "        for key, value in d.items():\n",
    "            print(key,'\\t', '|', value)\n",
    "        print(\"\\nThis is the end of the list.\")\n",
    "    return print_datatype\n",
    "\n",
    "\n",
    "# define the function to obtain data type for each item in the list\n",
    "@decorator\n",
    "def get_datatype(a_list: []) -> dict():\n",
    "    return {k:v for k, v in zip([type(item) for item in a_list], a_list)}\n",
    "\n",
    "get_datatype(a_list)"
   ]
  },
  {
   "cell_type": "markdown",
   "id": "2162f390-e777-45f0-8215-2b4784f3b1e2",
   "metadata": {},
   "source": [
    "The time and space complexity of iterating through the list to create a dictionary is O(n) where n is the number of elements in the list. \n",
    "The time and space complexity of iterating through the dictionary to output the key-values is O(n) where n is the number of key-value items."
   ]
  },
  {
   "cell_type": "markdown",
   "id": "e33ee2e3-14dd-4125-b575-4f8990b1a410",
   "metadata": {},
   "source": [
    "__END__"
   ]
  },
  {
   "cell_type": "code",
   "execution_count": null,
   "id": "1698bda8-4246-47be-aba0-9c55d5594c96",
   "metadata": {},
   "outputs": [],
   "source": []
  }
 ],
 "metadata": {
  "kernelspec": {
   "display_name": "Python 3 (ipykernel)",
   "language": "python",
   "name": "python3"
  },
  "language_info": {
   "codemirror_mode": {
    "name": "ipython",
    "version": 3
   },
   "file_extension": ".py",
   "mimetype": "text/x-python",
   "name": "python",
   "nbconvert_exporter": "python",
   "pygments_lexer": "ipython3",
   "version": "3.12.4"
  }
 },
 "nbformat": 4,
 "nbformat_minor": 5
}
